{
  "nbformat": 4,
  "nbformat_minor": 0,
  "metadata": {
    "colab": {
      "provenance": []
    },
    "kernelspec": {
      "name": "python3",
      "display_name": "Python 3"
    },
    "language_info": {
      "name": "python"
    }
  },
  "cells": [
    {
      "cell_type": "markdown",
      "source": [
        "**With the following data analysis, I'll be attempting to find the insights about various dog breed behaviour based on their size, intelligence, socialibilty.**"
      ],
      "metadata": {
        "id": "YI-bY0HrFnOR"
      }
    },
    {
      "cell_type": "code",
      "execution_count": null,
      "metadata": {
        "id": "o68tY-1KccPP"
      },
      "outputs": [],
      "source": [
        "import numpy as np\n",
        "import pandas as pd\n",
        "import matplotlib.pyplot as plt\n",
        "import seaborn as sns\n",
        "\n",
        "df_info = pd.read_csv(\"/content/sample_data/AKCBreedInfo.csv\").drop('index',axis=1)\n",
        "df_main = pd.read_csv(\"/content/sample_data/dog_intelligence.csv\").drop('index',axis=1)\n",
        "df_genre = pd.read_csv(\"/content/sample_data/best_in_show.csv\")\n",
        "\n",
        "df=df_main.merge(df_info,how='inner',on='Breed')\n",
        "df=df.merge(df_genre[['Dog breed','category']],how='inner',left_on='Breed',right_on='Dog breed')\n",
        "df.set_index('Breed',inplace=True)\n",
        "\n",
        "def size(avg_we):\n",
        "  size=''\n",
        "  if avg_we>40:\n",
        "    size='Large'\n",
        "  elif(avg_we>=25):\n",
        "    size='Medium'\n",
        "  else:\n",
        "    size='Small'\n",
        "  return size\n",
        "\n",
        "#Value imputation of nulls for lowest degree\n",
        "df.drop([\"Alaskan Malamute\"], inplace = True)\n",
        "df['obey'] = df['obey'].fillna('10%')\n",
        "df['AvgReps'] = (df['reps_lower']+df['reps_upper'])/2\n",
        "df['AvgHeight'] = 0.5*(df['height_low_inches'].astype(float) + df['height_high_inches'].astype(float))\n",
        "df['AvgWeight'] = 0.5*(df['weight_low_lbs'].astype(float) + df['weight_high_lbs'].astype(float))\n",
        "df['height_low_inches'] = df['height_low_inches'].astype(float)\n",
        "df['height_high_inches'] = df['height_high_inches'].astype(float)\n",
        "df['weight_low_lbs'] = df['weight_low_lbs'].astype(float)\n",
        "df['weight_high_lbs'] = df['weight_high_lbs'].astype(float)\n",
        "df['obey'] = df['obey'].apply(lambda x: int(x.replace('%','')))\n",
        "df['Size']= df['AvgWeight'].apply(size)\n",
        "df.info()\n",
        "df.describe()\n",
        "df.describe(include=object)"
      ]
    },
    {
      "cell_type": "markdown",
      "source": [
        "**After Data Cleaning, Transformation and Imputations I'll be performing the data analysis of the final dataset df.**\n",
        "\n",
        "**Exploratory Data Analysis:**\n",
        "- AckBreedInfo had 149 data points and dog_intelligence had 135 data points.\n",
        "- After data processing we are left with 104 data points to perform our analysis on.\n",
        "- I used an external database to know which category each of 104 breed belongs to. Source:https://www.kaggle.com/datasets/paultimothymooney/best-in-show-data-about-dogs\n",
        "\n",
        "**Observations about dataset df:**\n",
        "\n",
        "There are** 3 categorical attributes**:\n",
        "- **Classification** : It categorizes breed based on the probability of obeying. There are 6 classification.\n",
        "- **Category** : It categorizes the breeds based on what they are used for. For Eg: Toy dog, Working Dog Etc.\n",
        "- **Size**: Based on weight we have divided dogs as follows:\n",
        "  - Average weight > 40 lbs          - Large\n",
        "  - 20 lbs < Average weight < 40 lbs - Medium\n",
        "  - Average weight < 20 lbs          - Small"
      ],
      "metadata": {
        "id": "gz-C4Q4vFlwX"
      }
    },
    {
      "cell_type": "markdown",
      "source": [
        "# **Insight:**\n",
        "\n",
        "There is inverse Corelation between **Average reps to understand new command** and **probability of obeying**.\n",
        "We can infer that **higher intelligence** means **lower average reps** to learn a command and **high obey value**."
      ],
      "metadata": {
        "id": "ZgJdzMrVKqoH"
      }
    },
    {
      "cell_type": "code",
      "source": [
        "sns.scatterplot(x= 'obey', y= 'AvgReps', data = df)\n",
        "sns.lineplot(x='obey', y='AvgReps', data=df)\n",
        "plt.show()\n",
        "df.corr()\n"
      ],
      "metadata": {
        "colab": {
          "base_uri": "https://localhost:8080/",
          "height": 625
        },
        "id": "nqeSmSi6Dtbo",
        "outputId": "2e3ca17f-9ff8-4f69-bbd7-16f341882a29"
      },
      "execution_count": null,
      "outputs": [
        {
          "output_type": "display_data",
          "data": {
            "text/plain": [
              "<Figure size 432x288 with 1 Axes>"
            ],
            "image/png": "[encoded data removed]"
          },
          "metadata": {
            "needs_background": "light"
          }
        },
        {
          "output_type": "execute_result",
          "data": {
            "text/plain": [
              "                        obey  reps_lower  reps_upper  height_low_inches  \\\n",
              "obey                1.000000   -0.945471   -0.969888           0.116006   \n",
              "reps_lower         -0.945471    1.000000    0.948883          -0.072876   \n",
              "reps_upper         -0.969888    0.948883    1.000000          -0.144417   \n",
              "height_low_inches   0.116006   -0.072876   -0.144417           1.000000   \n",
              "height_high_inches  0.162126   -0.123118   -0.182886           0.960427   \n",
              "weight_low_lbs     -0.002912    0.057455   -0.010797           0.736889   \n",
              "weight_high_lbs    -0.000725    0.042645   -0.015814           0.729675   \n",
              "AvgReps            -0.971769    0.982815    0.990840          -0.115643   \n",
              "AvgHeight           0.142472   -0.101174   -0.166967           0.988249   \n",
              "AvgWeight          -0.001676    0.049454   -0.013802           0.739907   \n",
              "\n",
              "                    height_high_inches  weight_low_lbs  weight_high_lbs  \\\n",
              "obey                          0.162126       -0.002912        -0.000725   \n",
              "reps_lower                   -0.123118        0.057455         0.042645   \n",
              "reps_upper                   -0.182886       -0.010797        -0.015814   \n",
              "height_low_inches             0.960427        0.736889         0.729675   \n",
              "height_high_inches            1.000000        0.657206         0.655051   \n",
              "weight_low_lbs                0.657206        1.000000         0.960718   \n",
              "weight_high_lbs               0.655051        0.960718         1.000000   \n",
              "AvgReps                      -0.159638        0.018268         0.008997   \n",
              "AvgHeight                     0.991715        0.700504         0.695995   \n",
              "AvgWeight                     0.662371        0.987047         0.992798   \n",
              "\n",
              "                     AvgReps  AvgHeight  AvgWeight  \n",
              "obey               -0.971769   0.142472  -0.001676  \n",
              "reps_lower          0.982815  -0.101174   0.049454  \n",
              "reps_upper          0.990840  -0.166967  -0.013802  \n",
              "height_low_inches  -0.115643   0.988249   0.739907  \n",
              "height_high_inches -0.159638   0.991715   0.662371  \n",
              "weight_low_lbs      0.018268   0.700504   0.987047  \n",
              "weight_high_lbs     0.008997   0.695995   0.992798  \n",
              "AvgReps             1.000000  -0.140939   0.013087  \n",
              "AvgHeight          -0.140939   1.000000   0.704731  \n",
              "AvgWeight           0.013087   0.704731   1.000000  "
            ],
            "text/html": [
              "\n",
              "  <div id=\"df-203c87bb-2973-429b-ae39-a5d2f49e3ac4\">\n",
              "    <div class=\"colab-df-container\">\n",
              "      <div>\n",
              "<style scoped>\n",
              "    .dataframe tbody tr th:only-of-type {\n",
              "        vertical-align: middle;\n",
              "    }\n",
              "\n",
              "    .dataframe tbody tr th {\n",
              "        vertical-align: top;\n",
              "    }\n",
              "\n",
              "    .dataframe thead th {\n",
              "        text-align: right;\n",
              "    }\n",
              "</style>\n",
              "<table border=\"1\" class=\"dataframe\">\n",
              "  <thead>\n",
              "    <tr style=\"text-align: right;\">\n",
              "      <th></th>\n",
              "      <th>obey</th>\n",
              "      <th>reps_lower</th>\n",
              "      <th>reps_upper</th>\n",
              "      <th>height_low_inches</th>\n",
              "      <th>height_high_inches</th>\n",
              "      <th>weight_low_lbs</th>\n",
              "      <th>weight_high_lbs</th>\n",
              "      <th>AvgReps</th>\n",
              "      <th>AvgHeight</th>\n",
              "      <th>AvgWeight</th>\n",
              "    </tr>\n",
              "  </thead>\n",
              "  <tbody>\n",
              "    <tr>\n",
              "      <th>obey</th>\n",
              "      <td>1.000000</td>\n",
              "      <td>-0.945471</td>\n",
              "      <td>-0.969888</td>\n",
              "      <td>0.116006</td>\n",
              "      <td>0.162126</td>\n",
              "      <td>-0.002912</td>\n",
              "      <td>-0.000725</td>\n",
              "      <td>-0.971769</td>\n",
              "      <td>0.142472</td>\n",
              "      <td>-0.001676</td>\n",
              "    </tr>\n",
              "    <tr>\n",
              "      <th>reps_lower</th>\n",
              "      <td>-0.945471</td>\n",
              "      <td>1.000000</td>\n",
              "      <td>0.948883</td>\n",
              "      <td>-0.072876</td>\n",
              "      <td>-0.123118</td>\n",
              "      <td>0.057455</td>\n",
              "      <td>0.042645</td>\n",
              "      <td>0.982815</td>\n",
              "      <td>-0.101174</td>\n",
              "      <td>0.049454</td>\n",
              "    </tr>\n",
              "    <tr>\n",
              "      <th>reps_upper</th>\n",
              "      <td>-0.969888</td>\n",
              "      <td>0.948883</td>\n",
              "      <td>1.000000</td>\n",
              "      <td>-0.144417</td>\n",
              "      <td>-0.182886</td>\n",
              "      <td>-0.010797</td>\n",
              "      <td>-0.015814</td>\n",
              "      <td>0.990840</td>\n",
              "      <td>-0.166967</td>\n",
              "      <td>-0.013802</td>\n",
              "    </tr>\n",
              "    <tr>\n",
              "      <th>height_low_inches</th>\n",
              "      <td>0.116006</td>\n",
              "      <td>-0.072876</td>\n",
              "      <td>-0.144417</td>\n",
              "      <td>1.000000</td>\n",
              "      <td>0.960427</td>\n",
              "      <td>0.736889</td>\n",
              "      <td>0.729675</td>\n",
              "      <td>-0.115643</td>\n",
              "      <td>0.988249</td>\n",
              "      <td>0.739907</td>\n",
              "    </tr>\n",
              "    <tr>\n",
              "      <th>height_high_inches</th>\n",
              "      <td>0.162126</td>\n",
              "      <td>-0.123118</td>\n",
              "      <td>-0.182886</td>\n",
              "      <td>0.960427</td>\n",
              "      <td>1.000000</td>\n",
              "      <td>0.657206</td>\n",
              "      <td>0.655051</td>\n",
              "      <td>-0.159638</td>\n",
              "      <td>0.991715</td>\n",
              "      <td>0.662371</td>\n",
              "    </tr>\n",
              "    <tr>\n",
              "      <th>weight_low_lbs</th>\n",
              "      <td>-0.002912</td>\n",
              "      <td>0.057455</td>\n",
              "      <td>-0.010797</td>\n",
              "      <td>0.736889</td>\n",
              "      <td>0.657206</td>\n",
              "      <td>1.000000</td>\n",
              "      <td>0.960718</td>\n",
              "      <td>0.018268</td>\n",
              "      <td>0.700504</td>\n",
              "      <td>0.987047</td>\n",
              "    </tr>\n",
              "    <tr>\n",
              "      <th>weight_high_lbs</th>\n",
              "      <td>-0.000725</td>\n",
              "      <td>0.042645</td>\n",
              "      <td>-0.015814</td>\n",
              "      <td>0.729675</td>\n",
              "      <td>0.655051</td>\n",
              "      <td>0.960718</td>\n",
              "      <td>1.000000</td>\n",
              "      <td>0.008997</td>\n",
              "      <td>0.695995</td>\n",
              "      <td>0.992798</td>\n",
              "    </tr>\n",
              "    <tr>\n",
              "      <th>AvgReps</th>\n",
              "      <td>-0.971769</td>\n",
              "      <td>0.982815</td>\n",
              "      <td>0.990840</td>\n",
              "      <td>-0.115643</td>\n",
              "      <td>-0.159638</td>\n",
              "      <td>0.018268</td>\n",
              "      <td>0.008997</td>\n",
              "      <td>1.000000</td>\n",
              "      <td>-0.140939</td>\n",
              "      <td>0.013087</td>\n",
              "    </tr>\n",
              "    <tr>\n",
              "      <th>AvgHeight</th>\n",
              "      <td>0.142472</td>\n",
              "      <td>-0.101174</td>\n",
              "      <td>-0.166967</td>\n",
              "      <td>0.988249</td>\n",
              "      <td>0.991715</td>\n",
              "      <td>0.700504</td>\n",
              "      <td>0.695995</td>\n",
              "      <td>-0.140939</td>\n",
              "      <td>1.000000</td>\n",
              "      <td>0.704731</td>\n",
              "    </tr>\n",
              "    <tr>\n",
              "      <th>AvgWeight</th>\n",
              "      <td>-0.001676</td>\n",
              "      <td>0.049454</td>\n",
              "      <td>-0.013802</td>\n",
              "      <td>0.739907</td>\n",
              "      <td>0.662371</td>\n",
              "      <td>0.987047</td>\n",
              "      <td>0.992798</td>\n",
              "      <td>0.013087</td>\n",
              "      <td>0.704731</td>\n",
              "      <td>1.000000</td>\n",
              "    </tr>\n",
              "  </tbody>\n",
              "</table>\n",
              "</div>\n",
              "      <button class=\"colab-df-convert\" onclick=\"convertToInteractive('df-203c87bb-2973-429b-ae39-a5d2f49e3ac4')\"\n",
              "              title=\"Convert this dataframe to an interactive table.\"\n",
              "              style=\"display:none;\">\n",
              "        \n",
              "  <svg xmlns=\"http://www.w3.org/2000/svg\" height=\"24px\"viewBox=\"0 0 24 24\"\n",
              "       width=\"24px\">\n",
              "    <path d=\"M0 0h24v24H0V0z\" fill=\"none\"/>\n",
              "    <path d=\"M18.56 5.44l.94 2.06.94-2.06 2.06-.94-2.06-.94-.94-2.06-.94 2.06-2.06.94zm-11 1L8.5 8.5l.94-2.06 2.06-.94-2.06-.94L8.5 2.5l-.94 2.06-2.06.94zm10 10l.94 2.06.94-2.06 2.06-.94-2.06-.94-.94-2.06-.94 2.06-2.06.94z\"/><path d=\"M17.41 7.96l-1.37-1.37c-.4-.4-.92-.59-1.43-.59-.52 0-1.04.2-1.43.59L10.3 9.45l-7.72 7.72c-.78.78-.78 2.05 0 2.83L4 21.41c.39.39.9.59 1.41.59.51 0 1.02-.2 1.41-.59l7.78-7.78 2.81-2.81c.8-.78.8-2.07 0-2.86zM5.41 20L4 18.59l7.72-7.72 1.47 1.35L5.41 20z\"/>\n",
              "  </svg>\n",
              "      </button>\n",
              "      \n",
              "  <style>\n",
              "    .colab-df-container {\n",
              "      display:flex;\n",
              "      flex-wrap:wrap;\n",
              "      gap: 12px;\n",
              "    }\n",
              "\n",
              "    .colab-df-convert {\n",
              "      background-color: #E8F0FE;\n",
              "      border: none;\n",
              "      border-radius: 50%;\n",
              "      cursor: pointer;\n",
              "      display: none;\n",
              "      fill: #1967D2;\n",
              "      height: 32px;\n",
              "      padding: 0 0 0 0;\n",
              "      width: 32px;\n",
              "    }\n",
              "\n",
              "    .colab-df-convert:hover {\n",
              "      background-color: #E2EBFA;\n",
              "      box-shadow: 0px 1px 2px rgba(60, 64, 67, 0.3), 0px 1px 3px 1px rgba(60, 64, 67, 0.15);\n",
              "      fill: #174EA6;\n",
              "    }\n",
              "\n",
              "    [theme=dark] .colab-df-convert {\n",
              "      background-color: #3B4455;\n",
              "      fill: #D2E3FC;\n",
              "    }\n",
              "\n",
              "    [theme=dark] .colab-df-convert:hover {\n",
              "      background-color: #434B5C;\n",
              "      box-shadow: 0px 1px 3px 1px rgba(0, 0, 0, 0.15);\n",
              "      filter: drop-shadow(0px 1px 2px rgba(0, 0, 0, 0.3));\n",
              "      fill: #FFFFFF;\n",
              "    }\n",
              "  </style>\n",
              "\n",
              "      <script>\n",
              "        const buttonEl =\n",
              "          document.querySelector('#df-203c87bb-2973-429b-ae39-a5d2f49e3ac4 button.colab-df-convert');\n",
              "        buttonEl.style.display =\n",
              "          google.colab.kernel.accessAllowed ? 'block' : 'none';\n",
              "\n",
              "        async function convertToInteractive(key) {\n",
              "          const element = document.querySelector('#df-203c87bb-2973-429b-ae39-a5d2f49e3ac4');\n",
              "          const dataTable =\n",
              "            await google.colab.kernel.invokeFunction('convertToInteractive',\n",
              "                                                     [key], {});\n",
              "          if (!dataTable) return;\n",
              "\n",
              "          const docLinkHtml = 'Like what you see? Visit the ' +\n",
              "            '<a target=\"_blank\" href=https://colab.research.google.com/notebooks/data_table.ipynb>data table notebook</a>'\n",
              "            + ' to learn more about interactive tables.';\n",
              "          element.innerHTML = '';\n",
              "          dataTable['output_type'] = 'display_data';\n",
              "          await google.colab.output.renderOutput(dataTable, element);\n",
              "          const docLink = document.createElement('div');\n",
              "          docLink.innerHTML = docLinkHtml;\n",
              "          element.appendChild(docLink);\n",
              "        }\n",
              "      </script>\n",
              "    </div>\n",
              "  </div>\n",
              "  "
            ]
          },
          "metadata": {},
          "execution_count": 122
        }
      ]
    },
    {
      "cell_type": "markdown",
      "source": [
        "# **Insight:**\n",
        "In the given dataset\n",
        " - Large Breed - 57\n",
        " - Small Breed - 32\n",
        " - Medium Breed - 15"
      ],
      "metadata": {
        "id": "cPoizZQULpLv"
      }
    },
    {
      "cell_type": "code",
      "source": [
        "size_count = pd.DataFrame(df['Size'].value_counts()).reset_index()\n",
        "size_count.rename(columns={'index':'Size','Size':'Count'}, inplace=True)\n",
        "plt.title('Sizes Count',fontsize=15)\n",
        "y_bar = size_count['Size']\n",
        "x_bar = size_count['Count']\n",
        "plt.bar(y_bar,x_bar)\n",
        "plt.xlabel('Sizes',fontsize=12)\n",
        "plt.ylabel('Count',fontsize=12)\n",
        "plt.xticks(rotation=90, fontsize=12)\n",
        "plt.show()\n",
        "size_count"
      ],
      "metadata": {
        "colab": {
          "base_uri": "https://localhost:8080/",
          "height": 464
        },
        "id": "G9TIy0qaAqXk",
        "outputId": "654681ee-cfe6-45a0-dd82-745d946f2c55"
      },
      "execution_count": null,
      "outputs": [
        {
          "output_type": "display_data",
          "data": {
            "text/plain": [
              "<Figure size 432x288 with 1 Axes>"
            ],
            "image/png": "[encoded data removed]"
          },
          "metadata": {
            "needs_background": "light"
          }
        },
        {
          "output_type": "execute_result",
          "data": {
            "text/plain": [
              "     Size  Count\n",
              "0   Large     57\n",
              "1   Small     32\n",
              "2  Medium     15"
            ],
            "text/html": [
              "\n",
              "  <div id=\"df-7a412414-0ea6-4298-9db0-9e5774ff2ad1\">\n",
              "    <div class=\"colab-df-container\">\n",
              "      <div>\n",
              "<style scoped>\n",
              "    .dataframe tbody tr th:only-of-type {\n",
              "        vertical-align: middle;\n",
              "    }\n",
              "\n",
              "    .dataframe tbody tr th {\n",
              "        vertical-align: top;\n",
              "    }\n",
              "\n",
              "    .dataframe thead th {\n",
              "        text-align: right;\n",
              "    }\n",
              "</style>\n",
              "<table border=\"1\" class=\"dataframe\">\n",
              "  <thead>\n",
              "    <tr style=\"text-align: right;\">\n",
              "      <th></th>\n",
              "      <th>Size</th>\n",
              "      <th>Count</th>\n",
              "    </tr>\n",
              "  </thead>\n",
              "  <tbody>\n",
              "    <tr>\n",
              "      <th>0</th>\n",
              "      <td>Large</td>\n",
              "      <td>57</td>\n",
              "    </tr>\n",
              "    <tr>\n",
              "      <th>1</th>\n",
              "      <td>Small</td>\n",
              "      <td>32</td>\n",
              "    </tr>\n",
              "    <tr>\n",
              "      <th>2</th>\n",
              "      <td>Medium</td>\n",
              "      <td>15</td>\n",
              "    </tr>\n",
              "  </tbody>\n",
              "</table>\n",
              "</div>\n",
              "      <button class=\"colab-df-convert\" onclick=\"convertToInteractive('df-7a412414-0ea6-4298-9db0-9e5774ff2ad1')\"\n",
              "              title=\"Convert this dataframe to an interactive table.\"\n",
              "              style=\"display:none;\">\n",
              "        \n",
              "  <svg xmlns=\"http://www.w3.org/2000/svg\" height=\"24px\"viewBox=\"0 0 24 24\"\n",
              "       width=\"24px\">\n",
              "    <path d=\"M0 0h24v24H0V0z\" fill=\"none\"/>\n",
              "    <path d=\"M18.56 5.44l.94 2.06.94-2.06 2.06-.94-2.06-.94-.94-2.06-.94 2.06-2.06.94zm-11 1L8.5 8.5l.94-2.06 2.06-.94-2.06-.94L8.5 2.5l-.94 2.06-2.06.94zm10 10l.94 2.06.94-2.06 2.06-.94-2.06-.94-.94-2.06-.94 2.06-2.06.94z\"/><path d=\"M17.41 7.96l-1.37-1.37c-.4-.4-.92-.59-1.43-.59-.52 0-1.04.2-1.43.59L10.3 9.45l-7.72 7.72c-.78.78-.78 2.05 0 2.83L4 21.41c.39.39.9.59 1.41.59.51 0 1.02-.2 1.41-.59l7.78-7.78 2.81-2.81c.8-.78.8-2.07 0-2.86zM5.41 20L4 18.59l7.72-7.72 1.47 1.35L5.41 20z\"/>\n",
              "  </svg>\n",
              "      </button>\n",
              "      \n",
              "  <style>\n",
              "    .colab-df-container {\n",
              "      display:flex;\n",
              "      flex-wrap:wrap;\n",
              "      gap: 12px;\n",
              "    }\n",
              "\n",
              "    .colab-df-convert {\n",
              "      background-color: #E8F0FE;\n",
              "      border: none;\n",
              "      border-radius: 50%;\n",
              "      cursor: pointer;\n",
              "      display: none;\n",
              "      fill: #1967D2;\n",
              "      height: 32px;\n",
              "      padding: 0 0 0 0;\n",
              "      width: 32px;\n",
              "    }\n",
              "\n",
              "    .colab-df-convert:hover {\n",
              "      background-color: #E2EBFA;\n",
              "      box-shadow: 0px 1px 2px rgba(60, 64, 67, 0.3), 0px 1px 3px 1px rgba(60, 64, 67, 0.15);\n",
              "      fill: #174EA6;\n",
              "    }\n",
              "\n",
              "    [theme=dark] .colab-df-convert {\n",
              "      background-color: #3B4455;\n",
              "      fill: #D2E3FC;\n",
              "    }\n",
              "\n",
              "    [theme=dark] .colab-df-convert:hover {\n",
              "      background-color: #434B5C;\n",
              "      box-shadow: 0px 1px 3px 1px rgba(0, 0, 0, 0.15);\n",
              "      filter: drop-shadow(0px 1px 2px rgba(0, 0, 0, 0.3));\n",
              "      fill: #FFFFFF;\n",
              "    }\n",
              "  </style>\n",
              "\n",
              "      <script>\n",
              "        const buttonEl =\n",
              "          document.querySelector('#df-7a412414-0ea6-4298-9db0-9e5774ff2ad1 button.colab-df-convert');\n",
              "        buttonEl.style.display =\n",
              "          google.colab.kernel.accessAllowed ? 'block' : 'none';\n",
              "\n",
              "        async function convertToInteractive(key) {\n",
              "          const element = document.querySelector('#df-7a412414-0ea6-4298-9db0-9e5774ff2ad1');\n",
              "          const dataTable =\n",
              "            await google.colab.kernel.invokeFunction('convertToInteractive',\n",
              "                                                     [key], {});\n",
              "          if (!dataTable) return;\n",
              "\n",
              "          const docLinkHtml = 'Like what you see? Visit the ' +\n",
              "            '<a target=\"_blank\" href=https://colab.research.google.com/notebooks/data_table.ipynb>data table notebook</a>'\n",
              "            + ' to learn more about interactive tables.';\n",
              "          element.innerHTML = '';\n",
              "          dataTable['output_type'] = 'display_data';\n",
              "          await google.colab.output.renderOutput(dataTable, element);\n",
              "          const docLink = document.createElement('div');\n",
              "          docLink.innerHTML = docLinkHtml;\n",
              "          element.appendChild(docLink);\n",
              "        }\n",
              "      </script>\n",
              "    </div>\n",
              "  </div>\n",
              "  "
            ]
          },
          "metadata": {},
          "execution_count": 123
        }
      ]
    },
    {
      "cell_type": "markdown",
      "source": [
        "**Obey probilities for vaious classification:**\n",
        "\n",
        "Brightest Dogs  :   95\n",
        "\n",
        "Excellent Working Dogs : 85\n",
        "\n",
        "Above Average Working Dogs :\t70\n",
        "\n",
        "Average Working/Obedience Intelligence : 50\n",
        "\n",
        "Fair Working/Obedience Intelligence : 30\n",
        "\n",
        "Lowest Degree of Working/Obedience Intelligence : 10\n"
      ],
      "metadata": {
        "id": "jQy5Ai0UNviw"
      }
    },
    {
      "cell_type": "markdown",
      "source": [
        "What is the probabilty that a **large dog has obey > 50** i.e Large dogs are either in catergory of Bright Dogs or Excellent Working Dogs or Above Average Working Dogs? 49.12%\n",
        "\n",
        "**Conditional Probability: P(obey>50 | Large Dog)** : **49.12%**"
      ],
      "metadata": {
        "id": "GI__VQPONti_"
      }
    },
    {
      "cell_type": "code",
      "source": [
        "len(df[(df['obey']>50)&(df['Size']=='Large')])/len(df[df['Size']=='Large'])\n",
        "len(df[(df['obey']>50)&(df['Size']=='Medium')])/len(df[df['Size']=='Medium'])\n",
        "len(df[(df['obey']>50)&(df['Size']=='Small')])/len(df[df['Size']=='Small'])"
      ],
      "metadata": {
        "colab": {
          "base_uri": "https://localhost:8080/"
        },
        "id": "DUj9rypwPo75",
        "outputId": "5ea270ff-df0d-4382-c6fe-969a19066e4d"
      },
      "execution_count": null,
      "outputs": [
        {
          "output_type": "execute_result",
          "data": {
            "text/plain": [
              "0.28125"
            ]
          },
          "metadata": {},
          "execution_count": 124
        }
      ]
    },
    {
      "cell_type": "markdown",
      "source": [
        "Similarly, what is the probabilty that a **Medium and Small dog has obey > 50** ?\n",
        "\n",
        "**Conditional Probability: P(obey>50 | Medium Dog)**: **53.33%**\n",
        "\n",
        "**Conditional Probability: P(obey>50 | Small Dog)**: **28.12%**"
      ],
      "metadata": {
        "id": "UueWzl2VQZzP"
      }
    },
    {
      "cell_type": "code",
      "source": [
        "sns.barplot(data=df, x=\"Size\", y=\"obey\", estimator=np.mean)\n",
        "plt.show()#Mean obey/intelligence values of breeds."
      ],
      "metadata": {
        "colab": {
          "base_uri": "https://localhost:8080/",
          "height": 279
        },
        "id": "PXw-3ZTQRjs7",
        "outputId": "a1b41721-a4f0-4167-e877-476da1eee037"
      },
      "execution_count": null,
      "outputs": [
        {
          "output_type": "display_data",
          "data": {
            "text/plain": [
              "<Figure size 432x288 with 1 Axes>"
            ],
            "image/png": "[encoded data removed]"
          },
          "metadata": {
            "needs_background": "light"
          }
        }
      ]
    },
    {
      "cell_type": "markdown",
      "source": [
        "**Small Breed** has higher spread but mean is below 50 and conditional probabilty calculations shows that smaller breeds are less likely to be intelligent**(only 28% chances)** and **needs more avg reps** to learn new commands."
      ],
      "metadata": {
        "id": "qOcO99fLSub3"
      }
    },
    {
      "cell_type": "code",
      "source": [
        "sns.boxplot(x='Size', y='obey', data=df)\n",
        "plt.xticks(rotation=90,fontsize=12)\n",
        "plt.yticks(fontsize=12)\n",
        "plt.title('BreedWise Obeying Probabilites', fontsize=15)\n",
        "plt.show()"
      ],
      "metadata": {
        "colab": {
          "base_uri": "https://localhost:8080/",
          "height": 335
        },
        "id": "8Wjs6IY5CCha",
        "outputId": "a7ff7579-7034-4f9b-b7fe-4b6744aaf83f"
      },
      "execution_count": null,
      "outputs": [
        {
          "output_type": "display_data",
          "data": {
            "text/plain": [
              "<Figure size 432x288 with 1 Axes>"
            ],
            "image/png": "[encoded data removed]"
          },
          "metadata": {
            "needs_background": "light"
          }
        }
      ]
    },
    {
      "cell_type": "markdown",
      "source": [
        "**Top Utilities of Large Dogs:**\n",
        "- Sporting\n",
        "- Working\n",
        "- Hound\n"
      ],
      "metadata": {
        "id": "Voov4iJuVTBx"
      }
    },
    {
      "cell_type": "code",
      "source": [
        "large_dogs = df[df['Size']=='Large']\n",
        "category_count = pd.DataFrame(large_dogs['category'].value_counts()).reset_index()\n",
        "category_count.rename(columns={'index':'category','category':'Count'}, inplace=True)\n",
        "plt.title('Large Breed Categories',fontsize=15)\n",
        "y_bar = category_count['category']\n",
        "x_bar = category_count['Count']\n",
        "plt.bar(y_bar,x_bar)\n",
        "plt.xlabel('Category',fontsize=12)\n",
        "plt.ylabel('Count',fontsize=12)\n",
        "plt.xticks(rotation=90, fontsize=12)\n",
        "plt.show()\n"
      ],
      "metadata": {
        "colab": {
          "base_uri": "https://localhost:8080/",
          "height": 367
        },
        "id": "Wg7B5KaNBAMz",
        "outputId": "2fae7eda-bd30-46a9-a1ad-3d7d0c55302e"
      },
      "execution_count": null,
      "outputs": [
        {
          "output_type": "display_data",
          "data": {
            "text/plain": [
              "<Figure size 432x288 with 1 Axes>"
            ],
            "image/png": "[encoded data removed]"
          },
          "metadata": {
            "needs_background": "light"
          }
        }
      ]
    },
    {
      "cell_type": "markdown",
      "source": [
        "**Top Utilities of Small Dogs:**\n",
        "- Toy\n",
        "- Terrier"
      ],
      "metadata": {
        "id": "h349cM0nVk1K"
      }
    },
    {
      "cell_type": "code",
      "source": [
        "small_dogs = df[df['Size']=='Small']\n",
        "category_count = pd.DataFrame(small_dogs['category'].value_counts()).reset_index()\n",
        "category_count.rename(columns={'index':'category','category':'Count'}, inplace=True)\n",
        "plt.title('Small Breed Categories',fontsize=15)\n",
        "y_bar = category_count['category']\n",
        "x_bar = category_count['Count']\n",
        "plt.bar(y_bar,x_bar)\n",
        "plt.xlabel('Sizes',fontsize=12)\n",
        "plt.ylabel('Count',fontsize=12)\n",
        "plt.xticks(rotation=90, fontsize=12)\n",
        "plt.show()"
      ],
      "metadata": {
        "colab": {
          "base_uri": "https://localhost:8080/",
          "height": 367
        },
        "id": "2yguguLmUs6Z",
        "outputId": "9f419bb8-51db-47f3-a745-9a2c004444cc"
      },
      "execution_count": null,
      "outputs": [
        {
          "output_type": "display_data",
          "data": {
            "text/plain": [
              "<Figure size 432x288 with 1 Axes>"
            ],
            "image/png": "[encoded data removed]"
          },
          "metadata": {
            "needs_background": "light"
          }
        }
      ]
    },
    {
      "cell_type": "markdown",
      "source": [
        "**Top Utilities of Medium Dogs:**\n",
        "- Herding\n",
        "- Sporting"
      ],
      "metadata": {
        "id": "r3EdqTCEV2c3"
      }
    },
    {
      "cell_type": "code",
      "source": [
        "medium_dogs = df[df['Size']=='Medium']\n",
        "category_count = pd.DataFrame(medium_dogs['category'].value_counts()).reset_index()\n",
        "category_count.rename(columns={'index':'category','category':'Count'}, inplace=True)\n",
        "plt.title('Medium Breed Categories',fontsize=15)\n",
        "y_bar = category_count['category']\n",
        "x_bar = category_count['Count']\n",
        "plt.bar(y_bar,x_bar)\n",
        "plt.xlabel('Sizes',fontsize=12)\n",
        "plt.ylabel('Count',fontsize=12)\n",
        "plt.xticks(rotation=90, fontsize=12)\n",
        "plt.show()"
      ],
      "metadata": {
        "colab": {
          "base_uri": "https://localhost:8080/",
          "height": 367
        },
        "id": "CLbnvJCqU7Y_",
        "outputId": "769dd460-566a-46cd-f56f-f2b53a61205c"
      },
      "execution_count": null,
      "outputs": [
        {
          "output_type": "display_data",
          "data": {
            "text/plain": [
              "<Figure size 432x288 with 1 Axes>"
            ],
            "image/png": "[encoded data removed]"
          },
          "metadata": {
            "needs_background": "light"
          }
        }
      ]
    },
    {
      "cell_type": "markdown",
      "source": [
        "# **Based on Analysis of dataset, I have following insights and suggestions:**\n",
        "\n",
        "- Our analysis is based on the finding, that **more the number of average reps required for a breed to learn a new command, less obidient/intelligent it is.**\n",
        "\n",
        "- **Classification of breeds** - Large, Medium, Small is done based on **widely accepted criteria of average weight** in lbs.\n",
        "\n",
        "- In the given dataset:\n",
        " - Large Breed - 57\n",
        " - Small Breed - 32\n",
        " - Medium Breed - 15\n",
        "\n",
        "- **Obey probilities for vaious classification:**\n",
        "\n",
        "  - **Brightest Dogs** : 95% - 2.5 avg reps\n",
        "\n",
        "  - **Excellent Working Dogs** : 85% - 10 avg reps\n",
        "\n",
        "  - **Above Average Working Dogs** : 70% - 20.5 avg reps\n",
        "\n",
        "  - **Average Working/Obedience Intelligence** : 50% - 33 avg reps\n",
        "\n",
        "  - **Fair Working/Obedience Intelligence** : 30% - 60.5 avg reps\n",
        "\n",
        "  - **Lowest Degree of Working/Obedience Intelligence** : 10% - 90.5 avg reps\n",
        "\n",
        "\n",
        "- Given that the **breed you are intrested** in is **large or medium**, there is **almost 50% chance** that it's obey probability is between **70-95%**. They will be **easy to train**.\n",
        "\n",
        "  - Since there top utlilities for large are **Sporting, Working, Hound**, they are really **energetic, athletic, active and alert**.\n",
        "They'll require **good high energy diet, physical activity**.\n",
        "\n",
        "- Close to large breed category comes **medium sized**. They are more **service and utility oriented like herding, service dogs, sniffing, police dogs, protection etc.**\n",
        "  - Recommended for people who have **time and energy for hikes, walks, daily outside playtime**.\n",
        "  - Herding dogs make great **family companion** and are protective of family.\n",
        "\n",
        "- **Small breeds** have only **28% chance** of being **obidient more than 50%**.\n",
        "  - Their main utilities include **toy dogs, terrier**.\n",
        "  -Their **energy and food requirements are less** than above 2 categories.\n",
        "  -They need more reps to teach **so patience and various teaching methods will be required**.\n",
        "  - Even there might be some **need of dog trainer**.\n",
        "  - Since they are not much outdoor dogs they **need extra safety outside**.\n",
        "  - They might be **prone to heat and cold and disease** as they **don't have much exposure**, so there might be need for **more medical resources like checkups and medicines.**\n",
        "  - Recommended for people who **do not have much time for outdoor activities** and want a breed thats **playful and good to look at companion** or **have a small house.**"
      ],
      "metadata": {
        "id": "AgZucyTiWmc3"
      }
    }
  ]
}